{
 "cells": [
  {
   "cell_type": "code",
   "execution_count": 1,
   "metadata": {},
   "outputs": [],
   "source": [
    "import pandas as pd\n",
    "import seaborn as sns\n",
    "import matplotlib.pyplot as plt\n",
    "import numpy as np\n",
    "from matplotlib.lines import Line2D\n",
    "import scipy as sp\n",
    "\n",
    "plt.rcParams[\"font.family\"] = \"Times New Roman\"\n",
    "plt.rcParams[\"font.size\"] = 16\n",
    "SAVEFIG = False"
   ]
  },
  {
   "cell_type": "code",
   "execution_count": 2,
   "metadata": {},
   "outputs": [
    {
     "data": {
      "text/html": [
       "<div>\n",
       "<style scoped>\n",
       "    .dataframe tbody tr th:only-of-type {\n",
       "        vertical-align: middle;\n",
       "    }\n",
       "\n",
       "    .dataframe tbody tr th {\n",
       "        vertical-align: top;\n",
       "    }\n",
       "\n",
       "    .dataframe thead tr th {\n",
       "        text-align: left;\n",
       "    }\n",
       "</style>\n",
       "<table border=\"1\" class=\"dataframe\">\n",
       "  <thead>\n",
       "    <tr>\n",
       "      <th></th>\n",
       "      <th>adjacent</th>\n",
       "      <th>Unnamed: 1_level_0</th>\n",
       "      <th>remote</th>\n",
       "      <th>Unnamed: 3_level_0</th>\n",
       "    </tr>\n",
       "    <tr>\n",
       "      <th></th>\n",
       "      <th>X</th>\n",
       "      <th>Y</th>\n",
       "      <th>X</th>\n",
       "      <th>Y</th>\n",
       "    </tr>\n",
       "  </thead>\n",
       "  <tbody>\n",
       "    <tr>\n",
       "      <th>0</th>\n",
       "      <td>0.087656</td>\n",
       "      <td>0.535607</td>\n",
       "      <td>0.090233</td>\n",
       "      <td>0.504852</td>\n",
       "    </tr>\n",
       "    <tr>\n",
       "      <th>1</th>\n",
       "      <td>0.180422</td>\n",
       "      <td>0.639338</td>\n",
       "      <td>0.182140</td>\n",
       "      <td>0.602582</td>\n",
       "    </tr>\n",
       "    <tr>\n",
       "      <th>2</th>\n",
       "      <td>0.304110</td>\n",
       "      <td>0.725172</td>\n",
       "      <td>0.307546</td>\n",
       "      <td>0.694418</td>\n",
       "    </tr>\n",
       "    <tr>\n",
       "      <th>3</th>\n",
       "      <td>0.404607</td>\n",
       "      <td>0.776609</td>\n",
       "      <td>0.427799</td>\n",
       "      <td>0.763643</td>\n",
       "    </tr>\n",
       "    <tr>\n",
       "      <th>4</th>\n",
       "      <td>0.640818</td>\n",
       "      <td>0.873481</td>\n",
       "      <td>0.661433</td>\n",
       "      <td>0.878625</td>\n",
       "    </tr>\n",
       "  </tbody>\n",
       "</table>\n",
       "</div>"
      ],
      "text/plain": [
       "   adjacent Unnamed: 1_level_0    remote Unnamed: 3_level_0\n",
       "          X                  Y         X                  Y\n",
       "0  0.087656           0.535607  0.090233           0.504852\n",
       "1  0.180422           0.639338  0.182140           0.602582\n",
       "2  0.304110           0.725172  0.307546           0.694418\n",
       "3  0.404607           0.776609  0.427799           0.763643\n",
       "4  0.640818           0.873481  0.661433           0.878625"
      ]
     },
     "execution_count": 2,
     "metadata": {},
     "output_type": "execute_result"
    }
   ],
   "source": [
    "df = pd.read_csv(\"simu2_data/simu2_Schwartz.csv\", header=[0, 1])\n",
    "df"
   ]
  },
  {
   "cell_type": "code",
   "execution_count": 3,
   "metadata": {},
   "outputs": [
    {
     "data": {
      "text/html": [
       "<div>\n",
       "<style scoped>\n",
       "    .dataframe tbody tr th:only-of-type {\n",
       "        vertical-align: middle;\n",
       "    }\n",
       "\n",
       "    .dataframe tbody tr th {\n",
       "        vertical-align: top;\n",
       "    }\n",
       "\n",
       "    .dataframe thead th {\n",
       "        text-align: right;\n",
       "    }\n",
       "</style>\n",
       "<table border=\"1\" class=\"dataframe\">\n",
       "  <thead>\n",
       "    <tr style=\"text-align: right;\">\n",
       "      <th></th>\n",
       "      <th>adj_X</th>\n",
       "      <th>adj_Y</th>\n",
       "      <th>rem_X</th>\n",
       "      <th>rem_Y</th>\n",
       "    </tr>\n",
       "  </thead>\n",
       "  <tbody>\n",
       "    <tr>\n",
       "      <th>0</th>\n",
       "      <td>0.087656</td>\n",
       "      <td>0.535607</td>\n",
       "      <td>0.090233</td>\n",
       "      <td>0.504852</td>\n",
       "    </tr>\n",
       "    <tr>\n",
       "      <th>1</th>\n",
       "      <td>0.180422</td>\n",
       "      <td>0.639338</td>\n",
       "      <td>0.182140</td>\n",
       "      <td>0.602582</td>\n",
       "    </tr>\n",
       "    <tr>\n",
       "      <th>2</th>\n",
       "      <td>0.304110</td>\n",
       "      <td>0.725172</td>\n",
       "      <td>0.307546</td>\n",
       "      <td>0.694418</td>\n",
       "    </tr>\n",
       "    <tr>\n",
       "      <th>3</th>\n",
       "      <td>0.404607</td>\n",
       "      <td>0.776609</td>\n",
       "      <td>0.427799</td>\n",
       "      <td>0.763643</td>\n",
       "    </tr>\n",
       "    <tr>\n",
       "      <th>4</th>\n",
       "      <td>0.640818</td>\n",
       "      <td>0.873481</td>\n",
       "      <td>0.661433</td>\n",
       "      <td>0.878625</td>\n",
       "    </tr>\n",
       "  </tbody>\n",
       "</table>\n",
       "</div>"
      ],
      "text/plain": [
       "      adj_X     adj_Y     rem_X     rem_Y\n",
       "0  0.087656  0.535607  0.090233  0.504852\n",
       "1  0.180422  0.639338  0.182140  0.602582\n",
       "2  0.304110  0.725172  0.307546  0.694418\n",
       "3  0.404607  0.776609  0.427799  0.763643\n",
       "4  0.640818  0.873481  0.661433  0.878625"
      ]
     },
     "execution_count": 3,
     "metadata": {},
     "output_type": "execute_result"
    }
   ],
   "source": [
    "df.columns = [\"adj_X\", \"adj_Y\", \"rem_X\", \"rem_Y\"]\n",
    "df"
   ]
  },
  {
   "cell_type": "code",
   "execution_count": 4,
   "metadata": {},
   "outputs": [
    {
     "data": {
      "image/png": "[encoded data removed]",
      "text/plain": [
       "<Figure size 500x500 with 1 Axes>"
      ]
     },
     "metadata": {},
     "output_type": "display_data"
    }
   ],
   "source": [
    "fig, ax = plt.subplots(figsize=(5, 5))\n",
    "fig.subplots_adjust(left=0.1, right=0.97, bottom=0.1, top=0.97)\n",
    "\n",
    "ax.spines[[\"right\", \"top\"]].set_visible(False)\n",
    "x = np.array([0, 1])\n",
    "y = np.array([0, 1])\n",
    "ax.plot(x, y, color=\"grey\", linestyle=\"dashed\")\n",
    "sns.lineplot(data=df, x=\"adj_X\", y=\"adj_Y\", marker=\"o\", markersize=10, ax=ax, estimator=None, label=\"adjacent\", linewidth=2, linestyle=\"--\")\n",
    "sns.lineplot(data=df, x=\"rem_X\", y=\"rem_Y\", marker=\"o\", markersize=10, ax=ax, estimator=None, label=\"remote\", linewidth=2, linestyle=\"--\")\n",
    "plt.ylim([0, 1])\n",
    "plt.xlim([0, 1])\n",
    "plt.xlabel(\"False Alarm Rate\")\n",
    "plt.ylabel(\"Hit Rate\")\n",
    "ax.set(xlabel=None, ylabel=None)\n",
    "ticks = np.array([0, 0.2, 0.4, 0.6, 0.8, 1])\n",
    "plt.xticks(ticks=ticks)\n",
    "plt.yticks(ticks=ticks)\n",
    "ax.tick_params(axis=\"y\", direction=\"in\")\n",
    "ax.tick_params(axis=\"x\", direction=\"in\")\n",
    "legend_elements = [\n",
    "    Line2D([0], [0], color=sns.color_palette()[0], lw=2, marker=\"o\", markersize=10, linestyle=\"--\", label=\"Adjacent\"),\n",
    "    Line2D([0], [0], color=sns.color_palette()[1], lw=2, marker=\"o\", markersize=10, linestyle=\"--\", label=\"Remote\"),\n",
    "]\n",
    "plt.legend(handles=legend_elements, loc=\"lower right\")\n",
    "\n",
    "if SAVEFIG:\n",
    "    plt.savefig(\"simu2_fig/simu2_Schwartz_roc.pdf\")"
   ]
  },
  {
   "cell_type": "code",
   "execution_count": 5,
   "metadata": {},
   "outputs": [
    {
     "data": {
      "text/html": [
       "<div>\n",
       "<style scoped>\n",
       "    .dataframe tbody tr th:only-of-type {\n",
       "        vertical-align: middle;\n",
       "    }\n",
       "\n",
       "    .dataframe tbody tr th {\n",
       "        vertical-align: top;\n",
       "    }\n",
       "\n",
       "    .dataframe thead th {\n",
       "        text-align: right;\n",
       "    }\n",
       "</style>\n",
       "<table border=\"1\" class=\"dataframe\">\n",
       "  <thead>\n",
       "    <tr style=\"text-align: right;\">\n",
       "      <th></th>\n",
       "      <th>z_new_a</th>\n",
       "      <th>z_new_r</th>\n",
       "      <th>z_old_a</th>\n",
       "      <th>z_old_r</th>\n",
       "    </tr>\n",
       "  </thead>\n",
       "  <tbody>\n",
       "    <tr>\n",
       "      <th>0</th>\n",
       "      <td>-1.355333</td>\n",
       "      <td>-1.339325</td>\n",
       "      <td>0.089373</td>\n",
       "      <td>0.012163</td>\n",
       "    </tr>\n",
       "    <tr>\n",
       "      <th>1</th>\n",
       "      <td>-0.913758</td>\n",
       "      <td>-0.907240</td>\n",
       "      <td>0.356689</td>\n",
       "      <td>0.260035</td>\n",
       "    </tr>\n",
       "    <tr>\n",
       "      <th>2</th>\n",
       "      <td>-0.512615</td>\n",
       "      <td>-0.502818</td>\n",
       "      <td>0.598277</td>\n",
       "      <td>0.508411</td>\n",
       "    </tr>\n",
       "    <tr>\n",
       "      <th>3</th>\n",
       "      <td>-0.241439</td>\n",
       "      <td>-0.181981</td>\n",
       "      <td>0.760790</td>\n",
       "      <td>0.718069</td>\n",
       "    </tr>\n",
       "    <tr>\n",
       "      <th>4</th>\n",
       "      <td>0.360646</td>\n",
       "      <td>0.416376</td>\n",
       "      <td>1.143002</td>\n",
       "      <td>1.168139</td>\n",
       "    </tr>\n",
       "  </tbody>\n",
       "</table>\n",
       "</div>"
      ],
      "text/plain": [
       "    z_new_a   z_new_r   z_old_a   z_old_r\n",
       "0 -1.355333 -1.339325  0.089373  0.012163\n",
       "1 -0.913758 -0.907240  0.356689  0.260035\n",
       "2 -0.512615 -0.502818  0.598277  0.508411\n",
       "3 -0.241439 -0.181981  0.760790  0.718069\n",
       "4  0.360646  0.416376  1.143002  1.168139"
      ]
     },
     "execution_count": 5,
     "metadata": {},
     "output_type": "execute_result"
    }
   ],
   "source": [
    "df_zroc = pd.DataFrame()\n",
    "df_zroc[\"z_new_a\"] = sp.stats.norm.ppf(df[\"adj_X\"])\n",
    "df_zroc[\"z_new_r\"] = sp.stats.norm.ppf(df[\"rem_X\"])\n",
    "df_zroc[\"z_old_a\"] = sp.stats.norm.ppf(df[\"adj_Y\"])\n",
    "df_zroc[\"z_old_r\"] = sp.stats.norm.ppf(df[\"rem_Y\"])\n",
    "df_zroc"
   ]
  },
  {
   "cell_type": "code",
   "execution_count": 6,
   "metadata": {},
   "outputs": [
    {
     "data": {
      "image/png": "[encoded data removed]",
      "text/plain": [
       "<Figure size 500x500 with 1 Axes>"
      ]
     },
     "metadata": {},
     "output_type": "display_data"
    }
   ],
   "source": [
    "fig, ax = plt.subplots(figsize=(5, 5))\n",
    "fig.subplots_adjust(left=0.1, right=0.97, bottom=0.1, top=0.97)\n",
    "\n",
    "ax.spines[[\"right\", \"top\"]].set_visible(False)\n",
    "ax.tick_params(axis=\"y\", direction=\"in\")\n",
    "ax.tick_params(axis=\"x\", direction=\"in\")\n",
    "plt.axvline(x=0, color=\"grey\", linestyle=\"dashed\")\n",
    "plt.axhline(y=0, color=\"grey\", linestyle=\"dashed\")\n",
    "sns.lineplot(data=df_zroc, x=\"z_new_a\", y=\"z_old_a\", marker=\"o\", markersize=10, ax=ax, estimator=None, label=\"adjacent\", linewidth=2, linestyle=\"--\")\n",
    "sns.lineplot(data=df_zroc, x=\"z_new_r\", y=\"z_old_r\", marker=\"o\", markersize=10, ax=ax, estimator=None, label=\"remote\", linewidth=2, linestyle=\"--\")\n",
    "plt.ylim([-2.5, 2.5])\n",
    "plt.xlim([-2.5, 2.5])\n",
    "plt.xlabel(\"False Alarm Rate\")\n",
    "plt.ylabel(\"Hit Rate\")\n",
    "ax.set(xlabel=None, ylabel=None)\n",
    "legend_elements = [\n",
    "    Line2D([0], [0], color=sns.color_palette()[0], lw=2, marker=\"o\", markersize=10, linestyle=\"--\", label=\"Adjacent\"),\n",
    "    Line2D([0], [0], color=sns.color_palette()[1], lw=2, marker=\"o\", markersize=10, linestyle=\"--\", label=\"Remote\"),\n",
    "]\n",
    "plt.legend(handles=legend_elements, loc=\"lower right\")\n",
    "\n",
    "if SAVEFIG:\n",
    "    plt.savefig(\"simu2_fig/simu2_Schwartz_zroc.pdf\")"
   ]
  }
 ],
 "metadata": {
  "kernelspec": {
   "display_name": "jinbeige",
   "language": "python",
   "name": "python3"
  },
  "language_info": {
   "codemirror_mode": {
    "name": "ipython",
    "version": 3
   },
   "file_extension": ".py",
   "mimetype": "text/x-python",
   "name": "python",
   "nbconvert_exporter": "python",
   "pygments_lexer": "ipython3",
   "version": "3.9.19"
  },
  "orig_nbformat": 4
 },
 "nbformat": 4,
 "nbformat_minor": 2
}
