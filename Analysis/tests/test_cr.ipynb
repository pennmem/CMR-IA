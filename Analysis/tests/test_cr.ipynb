{
 "cells": [
  {
   "cell_type": "code",
   "execution_count": 96,
   "metadata": {
    "collapsed": false,
    "pycharm": {
     "is_executing": true
    }
   },
   "outputs": [],
   "source": [
    "import scipy.io\n",
    "import numpy as np\n",
    "import CMR_IA as cmr\n",
    "import matplotlib.pyplot as plt\n",
    "import pickle\n",
    "from statistics import mean, stdev\n",
    "import pprint\n",
    "# import import_ipynb\n",
    "import time\n",
    "import pandas as pd\n",
    "import seaborn as sns\n",
    "\n",
    "np.set_printoptions(edgeitems=20, linewidth=150,precision=4)"
   ]
  },
  {
   "cell_type": "code",
   "execution_count": 97,
   "id": "ad38bebb-bc35-457e-8b21-e1817308651d",
   "metadata": {},
   "outputs": [],
   "source": [
    "with open(\"../Data/simu5_design.pkl\", 'rb') as inp:\n",
    "    df_study = pickle.load(inp)\n",
    "    df_test = pickle.load(inp)"
   ]
  },
  {
   "cell_type": "code",
   "execution_count": 98,
   "id": "18811991-fa0a-4be7-af12-20ebb43113fc",
   "metadata": {},
   "outputs": [],
   "source": [
    "s_mat = np.load('../Data/wordpools/ltp_FR_similarity_matrix.npy')"
   ]
  },
  {
   "cell_type": "code",
   "execution_count": 99,
   "id": "c8645ec8-377b-4b14-aa6e-d74e2d941743",
   "metadata": {},
   "outputs": [
    {
     "data": {
      "text/plain": [
       "{'beta_enc': 0.5,\n",
       " 'beta_rec': 0.5,\n",
       " 'beta_cue': 0.5,\n",
       " 'beta_rec_new': 0.5,\n",
       " 'beta_rec_post': 0.1,\n",
       " 'beta_distract': 0.1,\n",
       " 'phi_s': 10,\n",
       " 'phi_d': 0.5,\n",
       " 's_cf': 0.1,\n",
       " 's_fc': 0.1,\n",
       " 'kappa': 0.02,\n",
       " 'eta': 0,\n",
       " 'omega': 8,\n",
       " 'alpha': 1,\n",
       " 'c_thresh': 0.01,\n",
       " 'c_thresh_ass': 0.01,\n",
       " 'd_ass': 1,\n",
       " 'lamb': 0.01,\n",
       " 'rec_time_limit': 60000.0,\n",
       " 'dt': 10,\n",
       " 'nitems_in_accumulator': 10,\n",
       " 'max_recalls': 50,\n",
       " 'learn_while_retrieving': False,\n",
       " 'a': 2800,\n",
       " 'b': 2.14,\n",
       " 'm': 0,\n",
       " 'n': 1,\n",
       " 'c1': 0,\n",
       " 'No_recall': None,\n",
       " 'var_enc': 1,\n",
       " 'bad_enc_ratio': 1,\n",
       " 'gamma_fc': 0.5,\n",
       " 'gamma_cf': 0.5}"
      ]
     },
     "execution_count": 99,
     "metadata": {},
     "output_type": "execute_result"
    }
   ],
   "source": [
    "params = cmr.make_default_params()\n",
    "params.update(\n",
    "    beta_enc = 0.5,\n",
    "    beta_rec = 0.5,\n",
    "    beta_rec_post = 0.1,\n",
    "    beta_distract = 0.1,\n",
    "    gamma_fc = 0.5,\n",
    "    gamma_cf = 0.5,\n",
    "    s_fc = 0.1,\n",
    "    s_cf = 0.1,\n",
    "    c_thresh = 0.01,\n",
    "    c_thresh_ass = 0.01,\n",
    "    a = 2800,\n",
    "    b = 2.14,\n",
    "    m = 0,\n",
    "    n = 1,\n",
    "    kappa = 0.02,\n",
    "    lamb = 0.01,\n",
    "    eta = 0,\n",
    "    phi_s = 10,\n",
    "    phi_d = 0.5,\n",
    "    nitems_in_accumulator = 10,\n",
    "    d_ass = 1,\n",
    "    learn_while_retrieving = False\n",
    ")\n",
    "params"
   ]
  },
  {
   "cell_type": "code",
   "execution_count": 100,
   "id": "9bbfad7b-cd65-413b-b851-f7060f43fafc",
   "metadata": {},
   "outputs": [
    {
     "data": {
      "text/html": [
       "<div>\n",
       "<style scoped>\n",
       "    .dataframe tbody tr th:only-of-type {\n",
       "        vertical-align: middle;\n",
       "    }\n",
       "\n",
       "    .dataframe tbody tr th {\n",
       "        vertical-align: top;\n",
       "    }\n",
       "\n",
       "    .dataframe thead th {\n",
       "        text-align: right;\n",
       "    }\n",
       "</style>\n",
       "<table border=\"1\" class=\"dataframe\">\n",
       "  <thead>\n",
       "    <tr style=\"text-align: right;\">\n",
       "      <th></th>\n",
       "      <th>study_itemno1</th>\n",
       "      <th>study_itemno2</th>\n",
       "      <th>study_item1</th>\n",
       "      <th>study_item2</th>\n",
       "      <th>list</th>\n",
       "      <th>session</th>\n",
       "    </tr>\n",
       "  </thead>\n",
       "  <tbody>\n",
       "    <tr>\n",
       "      <th>0</th>\n",
       "      <td>716</td>\n",
       "      <td>141</td>\n",
       "      <td>HOOP</td>\n",
       "      <td>BLUEJAY</td>\n",
       "      <td>1</td>\n",
       "      <td>0</td>\n",
       "    </tr>\n",
       "    <tr>\n",
       "      <th>1</th>\n",
       "      <td>1261</td>\n",
       "      <td>862</td>\n",
       "      <td>SEAGULL</td>\n",
       "      <td>MAN</td>\n",
       "      <td>1</td>\n",
       "      <td>0</td>\n",
       "    </tr>\n",
       "    <tr>\n",
       "      <th>2</th>\n",
       "      <td>1067</td>\n",
       "      <td>1402</td>\n",
       "      <td>PIKE</td>\n",
       "      <td>SUIT</td>\n",
       "      <td>1</td>\n",
       "      <td>0</td>\n",
       "    </tr>\n",
       "    <tr>\n",
       "      <th>3</th>\n",
       "      <td>146</td>\n",
       "      <td>707</td>\n",
       "      <td>BOLT</td>\n",
       "      <td>HIGHWAY</td>\n",
       "      <td>1</td>\n",
       "      <td>0</td>\n",
       "    </tr>\n",
       "    <tr>\n",
       "      <th>4</th>\n",
       "      <td>155</td>\n",
       "      <td>1140</td>\n",
       "      <td>BOULDER</td>\n",
       "      <td>PUDDLE</td>\n",
       "      <td>1</td>\n",
       "      <td>0</td>\n",
       "    </tr>\n",
       "    <tr>\n",
       "      <th>5</th>\n",
       "      <td>1599</td>\n",
       "      <td>330</td>\n",
       "      <td>WEED</td>\n",
       "      <td>CLOWN</td>\n",
       "      <td>1</td>\n",
       "      <td>0</td>\n",
       "    </tr>\n",
       "  </tbody>\n",
       "</table>\n",
       "</div>"
      ],
      "text/plain": [
       "   study_itemno1  study_itemno2 study_item1 study_item2  list  session\n",
       "0            716            141        HOOP     BLUEJAY     1        0\n",
       "1           1261            862     SEAGULL         MAN     1        0\n",
       "2           1067           1402        PIKE        SUIT     1        0\n",
       "3            146            707        BOLT     HIGHWAY     1        0\n",
       "4            155           1140     BOULDER      PUDDLE     1        0\n",
       "5           1599            330        WEED       CLOWN     1        0"
      ]
     },
     "execution_count": 100,
     "metadata": {},
     "output_type": "execute_result"
    }
   ],
   "source": [
    "df_study = df_study.loc[df_study.session == 0]\n",
    "# df_study['study_itemno1'] = [1,3,5,7,9,11,13,15,17,19,21,23]\n",
    "# df_study['study_itemno2'] = [2,4,6,8,10,12,14,16,18,20,22,24]\n",
    "df_study"
   ]
  },
  {
   "cell_type": "code",
   "execution_count": 101,
   "id": "459fd887-d535-488a-b6af-f1e003c80900",
   "metadata": {},
   "outputs": [
    {
     "data": {
      "text/html": [
       "<div>\n",
       "<style scoped>\n",
       "    .dataframe tbody tr th:only-of-type {\n",
       "        vertical-align: middle;\n",
       "    }\n",
       "\n",
       "    .dataframe tbody tr th {\n",
       "        vertical-align: top;\n",
       "    }\n",
       "\n",
       "    .dataframe thead th {\n",
       "        text-align: right;\n",
       "    }\n",
       "</style>\n",
       "<table border=\"1\" class=\"dataframe\">\n",
       "  <thead>\n",
       "    <tr style=\"text-align: right;\">\n",
       "      <th></th>\n",
       "      <th>test_itemno</th>\n",
       "      <th>test_item</th>\n",
       "      <th>correct_ans</th>\n",
       "      <th>lag</th>\n",
       "      <th>list</th>\n",
       "      <th>session</th>\n",
       "    </tr>\n",
       "  </thead>\n",
       "  <tbody>\n",
       "    <tr>\n",
       "      <th>0</th>\n",
       "      <td>716</td>\n",
       "      <td>HOOP</td>\n",
       "      <td>141</td>\n",
       "      <td>5</td>\n",
       "      <td>1</td>\n",
       "      <td>0</td>\n",
       "    </tr>\n",
       "  </tbody>\n",
       "</table>\n",
       "</div>"
      ],
      "text/plain": [
       "   test_itemno test_item  correct_ans  lag  list  session\n",
       "0          716      HOOP          141    5     1        0"
      ]
     },
     "execution_count": 101,
     "metadata": {},
     "output_type": "execute_result"
    }
   ],
   "source": [
    "df_test = df_test.loc[df_test.session == 0]\n",
    "# df_test['test_itemno'] = [1]\n",
    "# df_test['correct_ans'] = [2]\n",
    "df_test"
   ]
  },
  {
   "cell_type": "code",
   "execution_count": 102,
   "id": "ee7c988e-132a-48ea-88a0-4aedee742df6",
   "metadata": {},
   "outputs": [
    {
     "data": {
      "text/html": [
       "<div>\n",
       "<style scoped>\n",
       "    .dataframe tbody tr th:only-of-type {\n",
       "        vertical-align: middle;\n",
       "    }\n",
       "\n",
       "    .dataframe tbody tr th {\n",
       "        vertical-align: top;\n",
       "    }\n",
       "\n",
       "    .dataframe thead th {\n",
       "        text-align: right;\n",
       "    }\n",
       "</style>\n",
       "<table border=\"1\" class=\"dataframe\">\n",
       "  <thead>\n",
       "    <tr style=\"text-align: right;\">\n",
       "      <th></th>\n",
       "      <th>session</th>\n",
       "      <th>test_itemno</th>\n",
       "      <th>s_resp</th>\n",
       "      <th>s_rt</th>\n",
       "    </tr>\n",
       "  </thead>\n",
       "  <tbody>\n",
       "    <tr>\n",
       "      <th>0</th>\n",
       "      <td>0</td>\n",
       "      <td>716</td>\n",
       "      <td>NaN</td>\n",
       "      <td>NaN</td>\n",
       "    </tr>\n",
       "  </tbody>\n",
       "</table>\n",
       "</div>"
      ],
      "text/plain": [
       "   session  test_itemno  s_resp  s_rt\n",
       "0        0          716     NaN   NaN"
      ]
     },
     "execution_count": 102,
     "metadata": {},
     "output_type": "execute_result"
    }
   ],
   "source": [
    "df_thin = df_test[['session','test_itemno']]\n",
    "df_thin = df_thin.assign(s_resp=np.nan, s_rt=np.nan)\n",
    "df_thin"
   ]
  },
  {
   "cell_type": "code",
   "execution_count": 103,
   "id": "e89f183d-f7a9-4e1f-98af-14c3a2ff7946",
   "metadata": {},
   "outputs": [
    {
     "data": {
      "text/plain": [
       "array([[[ 716,  141],\n",
       "        [1261,  862],\n",
       "        [1067, 1402],\n",
       "        [ 146,  707],\n",
       "        [ 155, 1140],\n",
       "        [1599,  330]]])"
      ]
     },
     "execution_count": 103,
     "metadata": {},
     "output_type": "execute_result"
    }
   ],
   "source": [
    "# extarct the session data\n",
    "sess = 0\n",
    "pres_mat = df_study.loc[df_study.session==sess,['study_itemno1','study_itemno2']].to_numpy()\n",
    "pres_mat = np.reshape(pres_mat,(1,len(pres_mat),2))\n",
    "pres_mat"
   ]
  },
  {
   "cell_type": "code",
   "execution_count": 104,
   "id": "ad42ce90-3ecd-4ea1-87dd-699eab2f4fe1",
   "metadata": {},
   "outputs": [
    {
     "data": {
      "text/plain": [
       "array([[716]])"
      ]
     },
     "execution_count": 104,
     "metadata": {},
     "output_type": "execute_result"
    }
   ],
   "source": [
    "cue_mat = df_thin.loc[df_thin.session==sess,'test_itemno'].to_numpy()\n",
    "cue_mat = np.reshape(cue_mat,(1,-1))\n",
    "cue_mat"
   ]
  },
  {
   "cell_type": "code",
   "execution_count": 105,
   "id": "b5f6ba6f-e382-414c-a0a3-6797b8800982",
   "metadata": {},
   "outputs": [],
   "source": [
    "sem_mat = s_mat"
   ]
  },
  {
   "cell_type": "code",
   "execution_count": 106,
   "id": "30c54ba2-b754-4161-b46e-ae3b22524649",
   "metadata": {},
   "outputs": [],
   "source": [
    "model = cmr.CMR2(params, pres_mat, sem_mat, source_mat=None,\n",
    "           rec_mat=None, ffr_mat=None, cue_mat=cue_mat, task='CR', mode='Final')"
   ]
  },
  {
   "cell_type": "code",
   "execution_count": 107,
   "id": "b0340e89",
   "metadata": {},
   "outputs": [
    {
     "data": {
      "text/plain": [
       "array([[[ 716,  141],\n",
       "        [1261,  862],\n",
       "        [1067, 1402],\n",
       "        [ 146,  707],\n",
       "        [ 155, 1140],\n",
       "        [1599,  330]]], dtype=int16)"
      ]
     },
     "execution_count": 107,
     "metadata": {},
     "output_type": "execute_result"
    }
   ],
   "source": [
    "model.pres_nos"
   ]
  },
  {
   "cell_type": "code",
   "execution_count": 108,
   "id": "8d96231b-06b2-450e-afdb-14d43cf9ef28",
   "metadata": {},
   "outputs": [
    {
     "data": {
      "text/plain": [
       "array([[716]], dtype=int16)"
      ]
     },
     "execution_count": 108,
     "metadata": {},
     "output_type": "execute_result"
    }
   ],
   "source": [
    "model.cues_nos"
   ]
  },
  {
   "cell_type": "code",
   "execution_count": 109,
   "id": "5f1b9dbe-744b-4c77-8e85-638e0178c898",
   "metadata": {},
   "outputs": [
    {
     "data": {
      "text/plain": [
       "array([ 141,  146,  155,  330,  707,  716,  862, 1067, 1140, 1261, 1402, 1599], dtype=int16)"
      ]
     },
     "execution_count": 109,
     "metadata": {},
     "output_type": "execute_result"
    }
   ],
   "source": [
    "model.all_nos_unique"
   ]
  },
  {
   "cell_type": "code",
   "execution_count": 110,
   "id": "2fa4c977-9a4c-4f3b-8294-98803cb715ec",
   "metadata": {},
   "outputs": [
    {
     "data": {
      "text/plain": [
       "array([[[ 5,  0],\n",
       "        [ 9,  6],\n",
       "        [ 7, 10],\n",
       "        [ 1,  4],\n",
       "        [ 2,  8],\n",
       "        [11,  3]]], dtype=int64)"
      ]
     },
     "execution_count": 110,
     "metadata": {},
     "output_type": "execute_result"
    }
   ],
   "source": [
    "model.pres_indexes"
   ]
  },
  {
   "cell_type": "code",
   "execution_count": 111,
   "id": "12fd03b3-36b5-46db-b88a-d2cf05da8c83",
   "metadata": {},
   "outputs": [
    {
     "data": {
      "text/plain": [
       "array([[5]], dtype=int64)"
      ]
     },
     "execution_count": 111,
     "metadata": {},
     "output_type": "execute_result"
    }
   ],
   "source": [
    "model.cues_indexes"
   ]
  },
  {
   "cell_type": "code",
   "execution_count": 112,
   "id": "1079a12f-5dbe-4118-87c7-0ca1b0c39785",
   "metadata": {},
   "outputs": [
    {
     "data": {
      "text/plain": [
       "1"
      ]
     },
     "execution_count": 112,
     "metadata": {},
     "output_type": "execute_result"
    }
   ],
   "source": [
    "model.nlists"
   ]
  },
  {
   "cell_type": "code",
   "execution_count": 113,
   "id": "3cb4b65a",
   "metadata": {},
   "outputs": [
    {
     "data": {
      "text/plain": [
       "3"
      ]
     },
     "execution_count": 113,
     "metadata": {},
     "output_type": "execute_result"
    }
   ],
   "source": [
    "model.ndistractors"
   ]
  },
  {
   "cell_type": "code",
   "execution_count": 114,
   "id": "3b8385eb-f520-4c2b-98dc-a6d7c5c41337",
   "metadata": {},
   "outputs": [
    {
     "data": {
      "text/plain": [
       "1"
      ]
     },
     "execution_count": 114,
     "metadata": {},
     "output_type": "execute_result"
    }
   ],
   "source": [
    "model.cues_indexes.shape[1]"
   ]
  },
  {
   "cell_type": "code",
   "execution_count": 115,
   "id": "2a4025e8",
   "metadata": {},
   "outputs": [
    {
     "name": "stdout",
     "output_type": "stream",
     "text": [
      "[11.      7.0653  4.6788  3.2313  2.3534  1.8208]\n",
      "11.0\n",
      "[11.      7.0653  4.6788  3.2313  2.3534  1.8208]\n",
      "7.065306597126334\n",
      "[11.      7.0653  4.6788  3.2313  2.3534  1.8208]\n",
      "4.678794411714423\n",
      "[11.      7.0653  4.6788  3.2313  2.3534  1.8208]\n",
      "3.231301601484298\n",
      "[11.      7.0653  4.6788  3.2313  2.3534  1.8208]\n",
      "2.3533528323661272\n",
      "[11.      7.0653  4.6788  3.2313  2.3534  1.8208]\n",
      "1.820849986238988\n"
     ]
    }
   ],
   "source": [
    "model.run_norm_cr_single_sess()\n",
    "\n",
    "# in model:\n",
    "# print(self.att_vec[self.all_nos_unique[item_idx]-1])\n",
    "# print(np.dot(self.c_old[:self.nitems_unique], self.f[:self.nitems_unique].T))"
   ]
  },
  {
   "cell_type": "code",
   "execution_count": 116,
   "id": "0788645c",
   "metadata": {},
   "outputs": [
    {
     "data": {
      "text/plain": [
       "1638"
      ]
     },
     "execution_count": 116,
     "metadata": {},
     "output_type": "execute_result"
    }
   ],
   "source": [
    "len(model.att_vec)"
   ]
  },
  {
   "cell_type": "code",
   "execution_count": 117,
   "id": "74beae56",
   "metadata": {},
   "outputs": [
    {
     "data": {
      "text/plain": [
       "array([9., 1., 1., 1., 1., 9., 1., 1., 1., 1., 1., 1.], dtype=float32)"
      ]
     },
     "execution_count": 117,
     "metadata": {},
     "output_type": "execute_result"
    }
   ],
   "source": [
    "model.ret_thresh"
   ]
  },
  {
   "cell_type": "code",
   "execution_count": 118,
   "id": "a78d5fe6-07f3-40db-a603-767aca6139ef",
   "metadata": {},
   "outputs": [
    {
     "data": {
      "text/plain": [
       "[141]"
      ]
     },
     "execution_count": 118,
     "metadata": {},
     "output_type": "execute_result"
    }
   ],
   "source": [
    "model.rec_items"
   ]
  },
  {
   "cell_type": "code",
   "execution_count": 119,
   "id": "3d8f735e-a709-4645-96c0-73a94d8fd6d9",
   "metadata": {},
   "outputs": [
    {
     "data": {
      "text/plain": [
       "[350]"
      ]
     },
     "execution_count": 119,
     "metadata": {},
     "output_type": "execute_result"
    }
   ],
   "source": [
    "model.rec_times"
   ]
  },
  {
   "cell_type": "code",
   "execution_count": 120,
   "id": "3553aa1e-5158-4e00-b4b0-c12996ec7c1b",
   "metadata": {},
   "outputs": [
    {
     "data": {
      "text/plain": [
       "array([[0.5   , 0.1492, 0.1349, 0.1214, 0.1469, 0.5153, 0.1858, 0.1704, 0.1374, 0.1994, 0.1642, 0.1203, 0.    , 0.    , 0.    ],\n",
       "       [0.0088, 0.5147, 0.201 , 0.1634, 0.5203, 0.0135, 0.0125, 0.0203, 0.1948, 0.0167, 0.0169, 0.1619, 0.    , 0.    , 0.    ],\n",
       "       [0.0125, 0.0286, 0.5219, 0.1993, 0.0278, 0.0142, 0.0204, 0.0232, 0.54  , 0.0183, 0.0174, 0.2019, 0.    , 0.    , 0.    ],\n",
       "       [0.0132, 0.0236, 0.024 , 0.5201, 0.0222, 0.0092, 0.0229, 0.0201, 0.0283, 0.02  , 0.0272, 0.526 , 0.    , 0.    , 0.    ],\n",
       "       [0.0065, 0.5126, 0.1937, 0.1571, 0.5071, 0.0052, 0.0097, 0.012 , 0.1903, 0.0068, 0.0055, 0.1566, 0.    , 0.    , 0.    ],\n",
       "       [0.5153, 0.1449, 0.1303, 0.1112, 0.1366, 0.5   , 0.1799, 0.1578, 0.1262, 0.1846, 0.1542, 0.1063, 0.    , 0.    , 0.    ],\n",
       "       [0.0098, 0.1603, 0.1445, 0.1299, 0.1611, 0.0038, 0.5046, 0.1852, 0.1427, 0.5162, 0.184 , 0.1204, 0.    , 0.    , 0.    ],\n",
       "       [0.0106, 0.1942, 0.1679, 0.1381, 0.1908, 0.0051, 0.0105, 0.5101, 0.1659, 0.0165, 0.51  , 0.1439, 0.    , 0.    , 0.    ],\n",
       "       [0.015 , 0.0231, 0.5372, 0.2013, 0.025 , 0.0101, 0.018 , 0.0223, 0.5191, 0.024 , 0.0198, 0.1996, 0.    , 0.    , 0.    ],\n",
       "       [0.0233, 0.17  , 0.1474, 0.1324, 0.1637, 0.0085, 0.5225, 0.1964, 0.1537, 0.5109, 0.1863, 0.1266, 0.    , 0.    , 0.    ],\n",
       "       [0.0043, 0.1851, 0.154 , 0.1357, 0.1786, 0.0015, 0.006 , 0.5032, 0.1553, 0.003 , 0.5034, 0.1229, 0.    , 0.    , 0.    ],\n",
       "       [0.012 , 0.0138, 0.019 , 0.5202, 0.0133, 0.0043, 0.0114, 0.0189, 0.0189, 0.0121, 0.0074, 0.5143, 0.    , 0.    , 0.    ],\n",
       "       [0.    , 0.    , 0.    , 0.    , 0.    , 0.    , 0.    , 0.    , 0.    , 0.    , 0.    , 0.    , 0.5   , 0.    , 0.    ],\n",
       "       [0.    , 0.    , 0.    , 0.    , 0.    , 0.    , 0.    , 0.    , 0.    , 0.    , 0.    , 0.    , 0.    , 0.5   , 0.    ],\n",
       "       [0.    , 0.    , 0.    , 0.    , 0.    , 0.    , 0.    , 0.    , 0.    , 0.    , 0.    , 0.    , 0.    , 0.    , 0.5   ]], dtype=float32)"
      ]
     },
     "execution_count": 120,
     "metadata": {},
     "output_type": "execute_result"
    }
   ],
   "source": [
    "model.M_FC"
   ]
  },
  {
   "cell_type": "code",
   "execution_count": 121,
   "id": "c7884324-bc1a-47cf-97f1-21884ba1e78e",
   "metadata": {},
   "outputs": [
    {
     "data": {
      "text/plain": [
       "array([[5.0000e-01, 8.8198e-03, 1.2539e-02, 1.3209e-02, 6.5019e-03, 5.5153e+00, 9.7579e-03, 1.0576e-02, 1.5044e-02, 2.3299e-02, 4.3100e-03,\n",
       "        1.2048e-02, 0.0000e+00, 0.0000e+00, 0.0000e+00],\n",
       "       [4.6238e-01, 5.4751e-01, 6.5203e-02, 6.5857e-02, 1.6440e+00, 4.3814e-01, 5.0706e-01, 6.0721e-01, 6.1154e-02, 5.2900e-01, 5.8545e-01,\n",
       "        3.7348e-02, 0.0000e+00, 0.0000e+00, 0.0000e+00],\n",
       "       [3.0051e-01, 4.5634e-01, 5.5155e-01, 4.9102e-02, 4.4044e-01, 2.8739e-01, 3.2482e-01, 3.8377e-01, 1.2397e+00, 3.3461e-01, 3.5872e-01,\n",
       "        3.3709e-02, 0.0000e+00, 0.0000e+00, 0.0000e+00],\n",
       "       [2.1025e-01, 2.9360e-01, 3.5836e-01, 5.3666e-01, 2.8341e-01, 1.9500e-01, 2.2399e-01, 2.4797e-01, 3.5857e-01, 2.3091e-01, 2.3783e-01,\n",
       "        9.4231e-01, 0.0000e+00, 0.0000e+00, 0.0000e+00],\n",
       "       [4.6006e-01, 1.6687e+00, 6.4313e-02, 6.4436e-02, 5.2278e-01, 4.2979e-01, 5.0791e-01, 6.0384e-01, 6.3043e-02, 5.2277e-01, 5.7895e-01,\n",
       "        3.6817e-02, 0.0000e+00, 0.0000e+00, 0.0000e+00],\n",
       "       [5.5153e+00, 1.3525e-02, 1.4209e-02, 9.2060e-03, 5.1756e-03, 5.0000e-01, 3.8231e-03, 5.1260e-03, 1.0148e-02, 8.4914e-03, 1.4938e-03,\n",
       "        4.2508e-03, 0.0000e+00, 0.0000e+00, 0.0000e+00],\n",
       "       [1.2538e+00, 5.8763e-02, 7.5824e-02, 6.9348e-02, 3.3860e-02, 1.2479e+00, 5.3278e-01, 4.3082e-02, 7.0232e-02, 3.6210e+00, 1.7981e-02,\n",
       "        4.5146e-02, 0.0000e+00, 0.0000e+00, 0.0000e+00],\n",
       "       [7.5844e-01, 6.1543e-02, 7.7398e-02, 7.8829e-02, 3.5120e-02, 7.1957e-01, 8.4764e-01, 5.4740e-01, 8.0353e-02, 8.7812e-01, 2.3551e+00,\n",
       "        5.1799e-02, 0.0000e+00, 0.0000e+00, 0.0000e+00],\n",
       "       [3.0302e-01, 4.5020e-01, 1.2463e+00, 5.3393e-02, 4.3707e-01, 2.8333e-01, 3.2298e-01, 3.8176e-01, 5.4502e-01, 3.4083e-01, 3.6003e-01,\n",
       "        3.3637e-02, 0.0000e+00, 0.0000e+00, 0.0000e+00],\n",
       "       [1.2673e+00, 6.3009e-02, 7.3717e-02, 6.6454e-02, 3.1020e-02, 1.2525e+00, 3.5770e+00, 4.9013e-02, 7.6182e-02, 5.7674e-01, 1.5007e-02,\n",
       "        4.5873e-02, 0.0000e+00, 0.0000e+00, 0.0000e+00],\n",
       "       [7.5217e-01, 5.8222e-02, 7.1577e-02, 8.5862e-02, 2.8656e-02, 7.1594e-01, 8.4644e-01, 2.3866e+00, 7.7851e-02, 8.6801e-01, 5.1582e-01,\n",
       "        4.0313e-02, 0.0000e+00, 0.0000e+00, 0.0000e+00],\n",
       "       [2.0909e-01, 2.9217e-01, 3.6102e-01, 9.5299e-01, 2.8288e-01, 1.9005e-01, 2.1455e-01, 2.5375e-01, 3.5687e-01, 2.2510e-01, 2.2510e-01,\n",
       "        5.2597e-01, 0.0000e+00, 0.0000e+00, 0.0000e+00],\n",
       "       [0.0000e+00, 0.0000e+00, 0.0000e+00, 0.0000e+00, 0.0000e+00, 0.0000e+00, 0.0000e+00, 0.0000e+00, 0.0000e+00, 0.0000e+00, 0.0000e+00,\n",
       "        0.0000e+00, 5.0000e-01, 0.0000e+00, 0.0000e+00],\n",
       "       [0.0000e+00, 0.0000e+00, 0.0000e+00, 0.0000e+00, 0.0000e+00, 0.0000e+00, 0.0000e+00, 0.0000e+00, 0.0000e+00, 0.0000e+00, 0.0000e+00,\n",
       "        0.0000e+00, 0.0000e+00, 5.0000e-01, 0.0000e+00],\n",
       "       [0.0000e+00, 0.0000e+00, 0.0000e+00, 0.0000e+00, 0.0000e+00, 0.0000e+00, 0.0000e+00, 0.0000e+00, 0.0000e+00, 0.0000e+00, 0.0000e+00,\n",
       "        0.0000e+00, 0.0000e+00, 0.0000e+00, 5.0000e-01]], dtype=float32)"
      ]
     },
     "execution_count": 121,
     "metadata": {},
     "output_type": "execute_result"
    }
   ],
   "source": [
    "model.M_CF"
   ]
  },
  {
   "cell_type": "code",
   "execution_count": 122,
   "id": "f1ec1a7b-0fa1-4732-b9ba-6f8d185b8bfc",
   "metadata": {},
   "outputs": [
    {
     "data": {
      "text/html": [
       "<div>\n",
       "<style scoped>\n",
       "    .dataframe tbody tr th:only-of-type {\n",
       "        vertical-align: middle;\n",
       "    }\n",
       "\n",
       "    .dataframe tbody tr th {\n",
       "        vertical-align: top;\n",
       "    }\n",
       "\n",
       "    .dataframe thead th {\n",
       "        text-align: right;\n",
       "    }\n",
       "</style>\n",
       "<table border=\"1\" class=\"dataframe\">\n",
       "  <thead>\n",
       "    <tr style=\"text-align: right;\">\n",
       "      <th></th>\n",
       "      <th>session</th>\n",
       "      <th>test_itemno</th>\n",
       "      <th>s_resp</th>\n",
       "      <th>s_rt</th>\n",
       "      <th>test_item</th>\n",
       "      <th>correct_ans</th>\n",
       "      <th>lag</th>\n",
       "      <th>list</th>\n",
       "    </tr>\n",
       "  </thead>\n",
       "  <tbody>\n",
       "    <tr>\n",
       "      <th>0</th>\n",
       "      <td>0</td>\n",
       "      <td>716</td>\n",
       "      <td>141.0</td>\n",
       "      <td>350.0</td>\n",
       "      <td>HOOP</td>\n",
       "      <td>141</td>\n",
       "      <td>5</td>\n",
       "      <td>1</td>\n",
       "    </tr>\n",
       "  </tbody>\n",
       "</table>\n",
       "</div>"
      ],
      "text/plain": [
       "   session  test_itemno  s_resp   s_rt test_item  correct_ans  lag  list\n",
       "0        0          716   141.0  350.0      HOOP          141    5     1"
      ]
     },
     "execution_count": 122,
     "metadata": {},
     "output_type": "execute_result"
    }
   ],
   "source": [
    "recs = model.rec_items\n",
    "rts = model.rec_times\n",
    "result = np.column_stack((recs,rts))\n",
    "df_thin.loc[df_thin.session==sess, ['s_resp','s_rt']] = result\n",
    "df_simu = df_thin.merge(df_test,on=['session','test_itemno'])\n",
    "df_simu"
   ]
  },
  {
   "cell_type": "code",
   "execution_count": 123,
   "id": "c3e534f4-38ed-4ddb-84fa-fa24ae5ba4a1",
   "metadata": {},
   "outputs": [
    {
     "data": {
      "text/plain": [
       "array([ 141,  146,  155,  330,  707,  716,  862, 1067, 1140, 1261, 1402, 1599])"
      ]
     },
     "execution_count": 123,
     "metadata": {},
     "output_type": "execute_result"
    }
   ],
   "source": [
    "tmp1 = df_study.study_itemno1.to_numpy()\n",
    "tmp2 = df_study.study_itemno2.to_numpy()\n",
    "tmp = np.concatenate((tmp1, tmp2))\n",
    "tmp = np.sort(tmp)\n",
    "tmp"
   ]
  },
  {
   "cell_type": "code",
   "execution_count": 124,
   "id": "4d598889-40d5-4fa9-b210-cc3a096c0027",
   "metadata": {},
   "outputs": [],
   "source": [
    "testid = np.searchsorted(tmp, df_simu.test_itemno.item())\n",
    "corrid = np.searchsorted(tmp, df_simu.correct_ans.item())"
   ]
  },
  {
   "cell_type": "code",
   "execution_count": 125,
   "id": "4ec22040-a307-4778-92ed-61eba4b80deb",
   "metadata": {},
   "outputs": [
    {
     "ename": "AttributeError",
     "evalue": "'CMR2' object has no attribute 'f_in'",
     "output_type": "error",
     "traceback": [
      "\u001B[1;31m---------------------------------------------------------------------------\u001B[0m",
      "\u001B[1;31mAttributeError\u001B[0m                            Traceback (most recent call last)",
      "Cell \u001B[1;32mIn[125], line 1\u001B[0m\n\u001B[1;32m----> 1\u001B[0m df_simu[\u001B[39m'\u001B[39m\u001B[39mcorr_fin\u001B[39m\u001B[39m'\u001B[39m]\u001B[39m=\u001B[39m model\u001B[39m.\u001B[39;49mf_in[corrid]\n\u001B[0;32m      2\u001B[0m df_simu[\u001B[39m'\u001B[39m\u001B[39mothe_fin\u001B[39m\u001B[39m'\u001B[39m] \u001B[39m=\u001B[39m np\u001B[39m.\u001B[39mmean(np\u001B[39m.\u001B[39mdelete(model\u001B[39m.\u001B[39mf_in, [testid,corrid]))\n\u001B[0;32m      3\u001B[0m df_simu\n",
      "\u001B[1;31mAttributeError\u001B[0m: 'CMR2' object has no attribute 'f_in'"
     ]
    }
   ],
   "source": [
    "df_simu['corr_fin']= model.f_in[corrid]\n",
    "df_simu['othe_fin'] = np.mean(np.delete(model.f_in, [testid,corrid]))\n",
    "df_simu"
   ]
  },
  {
   "cell_type": "code",
   "execution_count": null,
   "id": "50de9aaa",
   "metadata": {},
   "outputs": [],
   "source": []
  }
 ],
 "metadata": {
  "kernelspec": {
   "display_name": "CMR_IA",
   "language": "python",
   "name": "python3"
  },
  "language_info": {
   "codemirror_mode": {
    "name": "ipython",
    "version": 3
   },
   "file_extension": ".py",
   "mimetype": "text/x-python",
   "name": "python",
   "nbconvert_exporter": "python",
   "pygments_lexer": "ipython3",
   "version": "3.9.0"
  }
 },
 "nbformat": 4,
 "nbformat_minor": 5
}
