{
 "cells": [
  {
   "cell_type": "code",
   "execution_count": 1,
   "metadata": {},
   "outputs": [],
   "source": [
    "import pandas as pd\n",
    "import seaborn as sns\n",
    "import matplotlib.pyplot as plt\n",
    "import numpy as np\n",
    "from matplotlib.lines import Line2D\n",
    "\n",
    "plt.rcParams[\"font.family\"] = \"Times New Roman\"\n",
    "plt.rcParams[\"font.size\"] = 16\n",
    "SAVEFIG = True"
   ]
  },
  {
   "cell_type": "code",
   "execution_count": 2,
   "metadata": {},
   "outputs": [
    {
     "data": {
      "text/html": [
       "<div>\n",
       "<style scoped>\n",
       "    .dataframe tbody tr th:only-of-type {\n",
       "        vertical-align: middle;\n",
       "    }\n",
       "\n",
       "    .dataframe tbody tr th {\n",
       "        vertical-align: top;\n",
       "    }\n",
       "\n",
       "    .dataframe thead tr th {\n",
       "        text-align: left;\n",
       "    }\n",
       "</style>\n",
       "<table border=\"1\" class=\"dataframe\">\n",
       "  <thead>\n",
       "    <tr>\n",
       "      <th></th>\n",
       "      <th>I-hit</th>\n",
       "      <th>Unnamed: 1_level_0</th>\n",
       "      <th>A-hit</th>\n",
       "      <th>Unnamed: 3_level_0</th>\n",
       "      <th>A-CR</th>\n",
       "      <th>Unnamed: 5_level_0</th>\n",
       "      <th>Item</th>\n",
       "      <th>Unnamed: 7_level_0</th>\n",
       "      <th>Pair</th>\n",
       "      <th>Unnamed: 9_level_0</th>\n",
       "    </tr>\n",
       "    <tr>\n",
       "      <th></th>\n",
       "      <th>X</th>\n",
       "      <th>Y</th>\n",
       "      <th>X</th>\n",
       "      <th>Y</th>\n",
       "      <th>X</th>\n",
       "      <th>Y</th>\n",
       "      <th>X</th>\n",
       "      <th>Y</th>\n",
       "      <th>X</th>\n",
       "      <th>Y</th>\n",
       "    </tr>\n",
       "  </thead>\n",
       "  <tbody>\n",
       "    <tr>\n",
       "      <th>0</th>\n",
       "      <td>2.070223</td>\n",
       "      <td>0.865969</td>\n",
       "      <td>2.038304</td>\n",
       "      <td>0.842957</td>\n",
       "      <td>2.022344</td>\n",
       "      <td>0.593305</td>\n",
       "      <td>2.034356</td>\n",
       "      <td>2.306792</td>\n",
       "      <td>2.017178</td>\n",
       "      <td>1.361827</td>\n",
       "    </tr>\n",
       "    <tr>\n",
       "      <th>1</th>\n",
       "      <td>4.017328</td>\n",
       "      <td>0.810879</td>\n",
       "      <td>4.033288</td>\n",
       "      <td>0.787169</td>\n",
       "      <td>4.017328</td>\n",
       "      <td>0.628870</td>\n",
       "      <td>4.026994</td>\n",
       "      <td>2.046838</td>\n",
       "      <td>4.026994</td>\n",
       "      <td>1.291569</td>\n",
       "    </tr>\n",
       "    <tr>\n",
       "      <th>2</th>\n",
       "      <td>6.028272</td>\n",
       "      <td>0.752301</td>\n",
       "      <td>5.996352</td>\n",
       "      <td>0.719526</td>\n",
       "      <td>6.028272</td>\n",
       "      <td>0.714644</td>\n",
       "      <td>6.036810</td>\n",
       "      <td>1.850117</td>\n",
       "      <td>6.036810</td>\n",
       "      <td>1.372365</td>\n",
       "    </tr>\n",
       "    <tr>\n",
       "      <th>3</th>\n",
       "      <td>8.007296</td>\n",
       "      <td>0.746722</td>\n",
       "      <td>8.039216</td>\n",
       "      <td>0.735565</td>\n",
       "      <td>8.039216</td>\n",
       "      <td>0.740446</td>\n",
       "      <td>8.046626</td>\n",
       "      <td>1.839578</td>\n",
       "      <td>8.046626</td>\n",
       "      <td>1.583138</td>\n",
       "    </tr>\n",
       "    <tr>\n",
       "      <th>4</th>\n",
       "      <td>16.019152</td>\n",
       "      <td>0.708368</td>\n",
       "      <td>16.035112</td>\n",
       "      <td>0.646304</td>\n",
       "      <td>16.051072</td>\n",
       "      <td>0.797629</td>\n",
       "      <td>16.068712</td>\n",
       "      <td>1.677986</td>\n",
       "      <td>16.034356</td>\n",
       "      <td>1.393443</td>\n",
       "    </tr>\n",
       "  </tbody>\n",
       "</table>\n",
       "</div>"
      ],
      "text/plain": [
       "       I-hit Unnamed: 1_level_0      A-hit Unnamed: 3_level_0       A-CR  \\\n",
       "           X                  Y          X                  Y          X   \n",
       "0   2.070223           0.865969   2.038304           0.842957   2.022344   \n",
       "1   4.017328           0.810879   4.033288           0.787169   4.017328   \n",
       "2   6.028272           0.752301   5.996352           0.719526   6.028272   \n",
       "3   8.007296           0.746722   8.039216           0.735565   8.039216   \n",
       "4  16.019152           0.708368  16.035112           0.646304  16.051072   \n",
       "\n",
       "  Unnamed: 5_level_0       Item Unnamed: 7_level_0       Pair  \\\n",
       "                   Y          X                  Y          X   \n",
       "0           0.593305   2.034356           2.306792   2.017178   \n",
       "1           0.628870   4.026994           2.046838   4.026994   \n",
       "2           0.714644   6.036810           1.850117   6.036810   \n",
       "3           0.740446   8.046626           1.839578   8.046626   \n",
       "4           0.797629  16.068712           1.677986  16.034356   \n",
       "\n",
       "  Unnamed: 9_level_0  \n",
       "                   Y  \n",
       "0           1.361827  \n",
       "1           1.291569  \n",
       "2           1.372365  \n",
       "3           1.583138  \n",
       "4           1.393443  "
      ]
     },
     "execution_count": 2,
     "metadata": {},
     "output_type": "execute_result"
    }
   ],
   "source": [
    "df = pd.read_csv(\"simu3_data/simu3_Hockley.csv\", header=[0, 1])\n",
    "df"
   ]
  },
  {
   "cell_type": "code",
   "execution_count": 3,
   "metadata": {},
   "outputs": [
    {
     "data": {
      "text/html": [
       "<div>\n",
       "<style scoped>\n",
       "    .dataframe tbody tr th:only-of-type {\n",
       "        vertical-align: middle;\n",
       "    }\n",
       "\n",
       "    .dataframe tbody tr th {\n",
       "        vertical-align: top;\n",
       "    }\n",
       "\n",
       "    .dataframe thead th {\n",
       "        text-align: right;\n",
       "    }\n",
       "</style>\n",
       "<table border=\"1\" class=\"dataframe\">\n",
       "  <thead>\n",
       "    <tr style=\"text-align: right;\">\n",
       "      <th></th>\n",
       "      <th>I_Hit_X</th>\n",
       "      <th>I_Hit_Y</th>\n",
       "      <th>A_Hit_X</th>\n",
       "      <th>A_Hit_Y</th>\n",
       "      <th>A_CR_X</th>\n",
       "      <th>A_CR_Y</th>\n",
       "      <th>Item_X</th>\n",
       "      <th>Item_Y</th>\n",
       "      <th>Pair_X</th>\n",
       "      <th>Pair_Y</th>\n",
       "    </tr>\n",
       "  </thead>\n",
       "  <tbody>\n",
       "    <tr>\n",
       "      <th>0</th>\n",
       "      <td>2</td>\n",
       "      <td>0.865969</td>\n",
       "      <td>2</td>\n",
       "      <td>0.842957</td>\n",
       "      <td>2</td>\n",
       "      <td>0.593305</td>\n",
       "      <td>2</td>\n",
       "      <td>2.306792</td>\n",
       "      <td>2</td>\n",
       "      <td>1.361827</td>\n",
       "    </tr>\n",
       "    <tr>\n",
       "      <th>1</th>\n",
       "      <td>4</td>\n",
       "      <td>0.810879</td>\n",
       "      <td>4</td>\n",
       "      <td>0.787169</td>\n",
       "      <td>4</td>\n",
       "      <td>0.628870</td>\n",
       "      <td>4</td>\n",
       "      <td>2.046838</td>\n",
       "      <td>4</td>\n",
       "      <td>1.291569</td>\n",
       "    </tr>\n",
       "    <tr>\n",
       "      <th>2</th>\n",
       "      <td>6</td>\n",
       "      <td>0.752301</td>\n",
       "      <td>6</td>\n",
       "      <td>0.719526</td>\n",
       "      <td>6</td>\n",
       "      <td>0.714644</td>\n",
       "      <td>6</td>\n",
       "      <td>1.850117</td>\n",
       "      <td>6</td>\n",
       "      <td>1.372365</td>\n",
       "    </tr>\n",
       "    <tr>\n",
       "      <th>3</th>\n",
       "      <td>8</td>\n",
       "      <td>0.746722</td>\n",
       "      <td>8</td>\n",
       "      <td>0.735565</td>\n",
       "      <td>8</td>\n",
       "      <td>0.740446</td>\n",
       "      <td>8</td>\n",
       "      <td>1.839578</td>\n",
       "      <td>8</td>\n",
       "      <td>1.583138</td>\n",
       "    </tr>\n",
       "    <tr>\n",
       "      <th>4</th>\n",
       "      <td>16</td>\n",
       "      <td>0.708368</td>\n",
       "      <td>16</td>\n",
       "      <td>0.646304</td>\n",
       "      <td>16</td>\n",
       "      <td>0.797629</td>\n",
       "      <td>16</td>\n",
       "      <td>1.677986</td>\n",
       "      <td>16</td>\n",
       "      <td>1.393443</td>\n",
       "    </tr>\n",
       "  </tbody>\n",
       "</table>\n",
       "</div>"
      ],
      "text/plain": [
       "   I_Hit_X   I_Hit_Y  A_Hit_X   A_Hit_Y  A_CR_X    A_CR_Y  Item_X    Item_Y  \\\n",
       "0        2  0.865969        2  0.842957       2  0.593305       2  2.306792   \n",
       "1        4  0.810879        4  0.787169       4  0.628870       4  2.046838   \n",
       "2        6  0.752301        6  0.719526       6  0.714644       6  1.850117   \n",
       "3        8  0.746722        8  0.735565       8  0.740446       8  1.839578   \n",
       "4       16  0.708368       16  0.646304      16  0.797629      16  1.677986   \n",
       "\n",
       "   Pair_X    Pair_Y  \n",
       "0       2  1.361827  \n",
       "1       4  1.291569  \n",
       "2       6  1.372365  \n",
       "3       8  1.583138  \n",
       "4      16  1.393443  "
      ]
     },
     "execution_count": 3,
     "metadata": {},
     "output_type": "execute_result"
    }
   ],
   "source": [
    "df.columns = [\"I_Hit_X\", \"I_Hit_Y\", \"A_Hit_X\", \"A_Hit_Y\", \"A_CR_X\", \"A_CR_Y\", \"Item_X\", \"Item_Y\", \"Pair_X\", \"Pair_Y\"]\n",
    "x_range = [2, 4, 6, 8, 16]\n",
    "df[\"I_Hit_X\"] = x_range\n",
    "df[\"A_Hit_X\"] = x_range\n",
    "df[\"A_CR_X\"] = x_range\n",
    "df[\"Item_X\"] = x_range\n",
    "df[\"Pair_X\"] = x_range\n",
    "df"
   ]
  },
  {
   "cell_type": "code",
   "execution_count": 4,
   "metadata": {},
   "outputs": [
    {
     "data": {
      "text/plain": [
       "0.12154167369959885"
      ]
     },
     "execution_count": 4,
     "metadata": {},
     "output_type": "execute_result"
    }
   ],
   "source": [
    "# infer the FAR for items\n",
    "# Formula: df['Item_Y'] = sp.stats.norm.ppf(df['I_Hit_Y']) - sp.stats.norm.ppf(I_Fars)\n",
    "import scipy as sp\n",
    "\n",
    "I_Fars = sp.stats.norm.cdf(sp.stats.norm.ppf(df[\"I_Hit_Y\"]) - df[\"Item_Y\"])\n",
    "np.mean(I_Fars)"
   ]
  },
  {
   "cell_type": "code",
   "execution_count": 5,
   "metadata": {},
   "outputs": [
    {
     "data": {
      "text/plain": [
       "array([1.2427405 , 1.12549874, 1.14843764, 1.27445341, 1.20854333])"
      ]
     },
     "execution_count": 5,
     "metadata": {},
     "output_type": "execute_result"
    }
   ],
   "source": [
    "sp.stats.norm.ppf(df[\"A_Hit_Y\"]) - sp.stats.norm.ppf(1 - df[\"A_CR_Y\"])"
   ]
  },
  {
   "cell_type": "code",
   "execution_count": 6,
   "metadata": {},
   "outputs": [
    {
     "data": {
      "text/plain": [
       "0    0.406695\n",
       "1    0.371130\n",
       "2    0.285356\n",
       "3    0.259554\n",
       "4    0.202371\n",
       "Name: A_CR_Y, dtype: float64"
      ]
     },
     "execution_count": 6,
     "metadata": {},
     "output_type": "execute_result"
    }
   ],
   "source": [
    "1 - df[\"A_CR_Y\"]"
   ]
  },
  {
   "cell_type": "code",
   "execution_count": 7,
   "metadata": {},
   "outputs": [
    {
     "data": {
      "image/png": "[encoded data removed]",
      "text/plain": [
       "<Figure size 600x450 with 1 Axes>"
      ]
     },
     "metadata": {},
     "output_type": "display_data"
    }
   ],
   "source": [
    "fig, ax = plt.subplots(figsize=(6, 4.5))\n",
    "fig.subplots_adjust(left=0.1, right=0.98, bottom=0.1, top=0.98)\n",
    "\n",
    "sns.lineplot(data=df, x=\"I_Hit_X\", y=\"I_Hit_Y\", linewidth=2, marker=\"o\", markersize=10, label=\"I-Hits\", linestyle=\"--\")\n",
    "sns.lineplot(data=df, x=\"A_Hit_X\", y=\"A_Hit_Y\", linewidth=2, marker=\"^\", markersize=10, label=\"A-Hits\", linestyle=\"--\")\n",
    "sns.lineplot(data=df, x=\"A_CR_X\", y=\"A_CR_Y\", linewidth=2, marker=\"^\", markersize=10, label=\"A-CRs\", linestyle=\"--\")\n",
    "ax.spines[[\"right\", \"top\"]].set_visible(False)\n",
    "ax.tick_params(axis=\"y\", direction=\"in\")\n",
    "ax.tick_params(axis=\"x\", direction=\"in\")\n",
    "plt.ylim([0.5, 1])\n",
    "# plt.xlabel('Test Lag')\n",
    "# plt.ylabel('Proportion Correct')\n",
    "ax.set(xlabel=None, ylabel=None)\n",
    "plt.xticks(ticks=np.arange(2, 18, 2))\n",
    "legend_elements = [\n",
    "    Line2D([0], [0], color=sns.color_palette()[0], lw=2, marker=\"o\", markersize=10, linestyle=\"--\", label=\"I-Hits\"),\n",
    "    Line2D([0], [0], color=sns.color_palette()[1], lw=2, marker=\"^\", markersize=10, linestyle=\"--\", label=\"A-Hits\"),\n",
    "    Line2D([0], [0], color=sns.color_palette()[2], lw=2, marker=\"^\", markersize=10, linestyle=\"--\", label=\"A-CRs\"),\n",
    "]\n",
    "plt.legend(handles=legend_elements)\n",
    "\n",
    "if SAVEFIG:\n",
    "    plt.savefig(\"simu3_fig/simu3_Hockley_hr.pdf\")"
   ]
  },
  {
   "cell_type": "code",
   "execution_count": 8,
   "metadata": {},
   "outputs": [
    {
     "data": {
      "image/png": "[encoded data removed]",
      "text/plain": [
       "<Figure size 600x450 with 1 Axes>"
      ]
     },
     "metadata": {},
     "output_type": "display_data"
    }
   ],
   "source": [
    "fig, ax = plt.subplots(figsize=(6, 4.5))\n",
    "fig.subplots_adjust(left=0.1, right=0.98, bottom=0.1, top=0.98)\n",
    "\n",
    "ax.spines[[\"right\", \"top\"]].set_visible(False)\n",
    "ax.tick_params(axis=\"y\", direction=\"in\")\n",
    "ax.tick_params(axis=\"x\", direction=\"in\")\n",
    "sns.lineplot(data=df, x=\"Item_X\", y=\"Item_Y\", linewidth=2, marker=\"o\", markersize=10, label=\"Items\", linestyle=\"--\")\n",
    "sns.lineplot(data=df, x=\"Pair_X\", y=\"Pair_Y\", linewidth=2, marker=\"^\", markersize=10, label=\"Pairs\", linestyle=\"--\")\n",
    "# plt.ylabel(\"$d^'$\")\n",
    "# plt.xlabel('Test Lag')\n",
    "ax.set(xlabel=None, ylabel=None)\n",
    "plt.ylim([0.5, 3])\n",
    "plt.yticks(np.arange(0.5, 3.5, 0.5))\n",
    "plt.xticks(ticks=np.arange(2, 18, 2))\n",
    "legend_elements = [\n",
    "    Line2D([0], [0], color=sns.color_palette()[0], lw=2, marker=\"o\", markersize=10, linestyle=\"--\", label=\"Items\"),\n",
    "    Line2D([0], [0], color=sns.color_palette()[1], lw=2, marker=\"^\", markersize=10, linestyle=\"--\", label=\"Pairs\"),\n",
    "]\n",
    "plt.legend(handles=legend_elements)\n",
    "\n",
    "if SAVEFIG:\n",
    "    plt.savefig(\"simu3_fig/simu3_Hockley_dprime.pdf\")"
   ]
  },
  {
   "cell_type": "code",
   "execution_count": null,
   "metadata": {},
   "outputs": [],
   "source": []
  }
 ],
 "metadata": {
  "kernelspec": {
   "display_name": "jinbeige",
   "language": "python",
   "name": "python3"
  },
  "language_info": {
   "codemirror_mode": {
    "name": "ipython",
    "version": 3
   },
   "file_extension": ".py",
   "mimetype": "text/x-python",
   "name": "python",
   "nbconvert_exporter": "python",
   "pygments_lexer": "ipython3",
   "version": "3.9.19"
  },
  "orig_nbformat": 4
 },
 "nbformat": 4,
 "nbformat_minor": 2
}
