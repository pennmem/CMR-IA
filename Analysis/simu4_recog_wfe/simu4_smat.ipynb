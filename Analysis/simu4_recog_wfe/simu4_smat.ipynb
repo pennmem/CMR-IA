{
 "cells": [
  {
   "cell_type": "code",
   "execution_count": 1,
   "id": "50bab627-1e0d-4a84-bdc6-c26b8eba0c74",
   "metadata": {},
   "outputs": [],
   "source": [
    "# to generate w2v for 984 words, from Ada's 1638 words matrix\n",
    "import scipy.io\n",
    "import numpy as np\n",
    "import pickle\n",
    "import pandas as pd\n",
    "from striprtf.striprtf import rtf_to_text\n",
    "import ast"
   ]
  },
  {
   "cell_type": "code",
   "execution_count": 2,
   "id": "f7044127-1db6-45a4-8210-621fdd5cb313",
   "metadata": {},
   "outputs": [],
   "source": [
    "with open(\"../wordpools/ltpFR_words.rtf\", \"r\") as file:\n",
    "    content = file.read()\n",
    "    text = rtf_to_text(content)"
   ]
  },
  {
   "cell_type": "code",
   "execution_count": 3,
   "id": "1e9179d8-b1c1-4754-bb39-8bc7aeaca5e6",
   "metadata": {},
   "outputs": [
    {
     "data": {
      "text/plain": [
       "1638"
      ]
     },
     "execution_count": 3,
     "metadata": {},
     "output_type": "execute_result"
    }
   ],
   "source": [
    "words = ast.literal_eval(text.split(\"\\n\")[2])\n",
    "len(words)"
   ]
  },
  {
   "cell_type": "code",
   "execution_count": 4,
   "id": "5d80e2a1-e9da-4a6a-a12c-7d1ecf50cc29",
   "metadata": {},
   "outputs": [],
   "source": [
    "w2v = np.load(\"../wordpools/ltp_FR_similarity_matrix.npy\")"
   ]
  },
  {
   "cell_type": "code",
   "execution_count": 5,
   "id": "251273d7-d824-410c-8821-1cd41b637156",
   "metadata": {},
   "outputs": [
    {
     "data": {
      "text/html": [
       "<div>\n",
       "<style scoped>\n",
       "    .dataframe tbody tr th:only-of-type {\n",
       "        vertical-align: middle;\n",
       "    }\n",
       "\n",
       "    .dataframe tbody tr th {\n",
       "        vertical-align: top;\n",
       "    }\n",
       "\n",
       "    .dataframe thead th {\n",
       "        text-align: right;\n",
       "    }\n",
       "</style>\n",
       "<table border=\"1\" class=\"dataframe\">\n",
       "  <thead>\n",
       "    <tr style=\"text-align: right;\">\n",
       "      <th></th>\n",
       "      <th>item</th>\n",
       "      <th>itemno_old</th>\n",
       "      <th>itemno</th>\n",
       "      <th>freq</th>\n",
       "      <th>quantile</th>\n",
       "    </tr>\n",
       "  </thead>\n",
       "  <tbody>\n",
       "    <tr>\n",
       "      <th>0</th>\n",
       "      <td>ABDOMEN</td>\n",
       "      <td>1</td>\n",
       "      <td>1</td>\n",
       "      <td>110</td>\n",
       "      <td>2</td>\n",
       "    </tr>\n",
       "    <tr>\n",
       "      <th>1</th>\n",
       "      <td>ACROBAT</td>\n",
       "      <td>4</td>\n",
       "      <td>2</td>\n",
       "      <td>17</td>\n",
       "      <td>0</td>\n",
       "    </tr>\n",
       "    <tr>\n",
       "      <th>2</th>\n",
       "      <td>ADULT</td>\n",
       "      <td>8</td>\n",
       "      <td>3</td>\n",
       "      <td>906</td>\n",
       "      <td>8</td>\n",
       "    </tr>\n",
       "    <tr>\n",
       "      <th>3</th>\n",
       "      <td>ALLEY</td>\n",
       "      <td>15</td>\n",
       "      <td>4</td>\n",
       "      <td>165</td>\n",
       "      <td>4</td>\n",
       "    </tr>\n",
       "    <tr>\n",
       "      <th>4</th>\n",
       "      <td>ALLIGATOR</td>\n",
       "      <td>16</td>\n",
       "      <td>5</td>\n",
       "      <td>12</td>\n",
       "      <td>0</td>\n",
       "    </tr>\n",
       "    <tr>\n",
       "      <th>...</th>\n",
       "      <td>...</td>\n",
       "      <td>...</td>\n",
       "      <td>...</td>\n",
       "      <td>...</td>\n",
       "      <td>...</td>\n",
       "    </tr>\n",
       "    <tr>\n",
       "      <th>979</th>\n",
       "      <td>YOKE</td>\n",
       "      <td>1632</td>\n",
       "      <td>980</td>\n",
       "      <td>12</td>\n",
       "      <td>0</td>\n",
       "    </tr>\n",
       "    <tr>\n",
       "      <th>980</th>\n",
       "      <td>YOLK</td>\n",
       "      <td>1633</td>\n",
       "      <td>981</td>\n",
       "      <td>47</td>\n",
       "      <td>1</td>\n",
       "    </tr>\n",
       "    <tr>\n",
       "      <th>981</th>\n",
       "      <td>YOUTH</td>\n",
       "      <td>1634</td>\n",
       "      <td>982</td>\n",
       "      <td>1159</td>\n",
       "      <td>8</td>\n",
       "    </tr>\n",
       "    <tr>\n",
       "      <th>982</th>\n",
       "      <td>ZIPPER</td>\n",
       "      <td>1636</td>\n",
       "      <td>983</td>\n",
       "      <td>24</td>\n",
       "      <td>0</td>\n",
       "    </tr>\n",
       "    <tr>\n",
       "      <th>983</th>\n",
       "      <td>ZOO</td>\n",
       "      <td>1637</td>\n",
       "      <td>984</td>\n",
       "      <td>156</td>\n",
       "      <td>3</td>\n",
       "    </tr>\n",
       "  </tbody>\n",
       "</table>\n",
       "<p>984 rows × 5 columns</p>\n",
       "</div>"
      ],
      "text/plain": [
       "          item  itemno_old  itemno  freq  quantile\n",
       "0      ABDOMEN           1       1   110         2\n",
       "1      ACROBAT           4       2    17         0\n",
       "2        ADULT           8       3   906         8\n",
       "3        ALLEY          15       4   165         4\n",
       "4    ALLIGATOR          16       5    12         0\n",
       "..         ...         ...     ...   ...       ...\n",
       "979       YOKE        1632     980    12         0\n",
       "980       YOLK        1633     981    47         1\n",
       "981      YOUTH        1634     982  1159         8\n",
       "982     ZIPPER        1636     983    24         0\n",
       "983        ZOO        1637     984   156         3\n",
       "\n",
       "[984 rows x 5 columns]"
      ]
     },
     "execution_count": 5,
     "metadata": {},
     "output_type": "execute_result"
    }
   ],
   "source": [
    "with open(\"simu4_data/simu4_word_freq.pkl\", \"rb\") as inp:\n",
    "    df = pickle.load(inp)\n",
    "df"
   ]
  },
  {
   "cell_type": "code",
   "execution_count": 6,
   "id": "6a41812a-06ec-4c93-8ee8-b43e869fb5a3",
   "metadata": {},
   "outputs": [
    {
     "name": "stdout",
     "output_type": "stream",
     "text": [
      "489\n"
     ]
    },
    {
     "data": {
      "text/html": [
       "<div>\n",
       "<style scoped>\n",
       "    .dataframe tbody tr th:only-of-type {\n",
       "        vertical-align: middle;\n",
       "    }\n",
       "\n",
       "    .dataframe tbody tr th {\n",
       "        vertical-align: top;\n",
       "    }\n",
       "\n",
       "    .dataframe thead th {\n",
       "        text-align: right;\n",
       "    }\n",
       "</style>\n",
       "<table border=\"1\" class=\"dataframe\">\n",
       "  <thead>\n",
       "    <tr style=\"text-align: right;\">\n",
       "      <th></th>\n",
       "      <th>item</th>\n",
       "      <th>itemno_old</th>\n",
       "      <th>itemno</th>\n",
       "      <th>freq</th>\n",
       "      <th>quantile</th>\n",
       "    </tr>\n",
       "  </thead>\n",
       "  <tbody>\n",
       "    <tr>\n",
       "      <th>279</th>\n",
       "      <td>DOUGHNUT</td>\n",
       "      <td>490</td>\n",
       "      <td>280</td>\n",
       "      <td>20</td>\n",
       "      <td>0</td>\n",
       "    </tr>\n",
       "  </tbody>\n",
       "</table>\n",
       "</div>"
      ],
      "text/plain": [
       "         item  itemno_old  itemno  freq  quantile\n",
       "279  DOUGHNUT         490     280    20         0"
      ]
     },
     "execution_count": 6,
     "metadata": {},
     "output_type": "execute_result"
    }
   ],
   "source": [
    "# only doughnut is replaced with donut, check the index is right\n",
    "print(words.index(\"DONUT\"))\n",
    "df.loc[df.item == \"DOUGHNUT\"]"
   ]
  },
  {
   "cell_type": "code",
   "execution_count": 7,
   "id": "b4aecbbc-bee7-4390-a696-f3c50256daad",
   "metadata": {},
   "outputs": [
    {
     "data": {
      "text/plain": [
       "array([[ 1.        ,  0.043753  ,  0.0616273 , ...,  0.0960546 ,\n",
       "         0.21163701,  0.1202751 ],\n",
       "       [ 0.043753  ,  1.        ,  0.1883112 , ...,  0.0656027 ,\n",
       "         0.14024679,  0.14679889],\n",
       "       [ 0.0616273 ,  0.1883112 ,  1.        , ...,  0.38248011,\n",
       "         0.13602901,  0.2249108 ],\n",
       "       ...,\n",
       "       [ 0.0960546 ,  0.0656027 ,  0.38248011, ...,  1.        ,\n",
       "        -0.0149595 ,  0.1125602 ],\n",
       "       [ 0.21163701,  0.14024679,  0.13602901, ..., -0.0149595 ,\n",
       "         1.        ,  0.0480661 ],\n",
       "       [ 0.1202751 ,  0.14679889,  0.2249108 , ...,  0.1125602 ,\n",
       "         0.0480661 ,  1.        ]])"
      ]
     },
     "execution_count": 7,
     "metadata": {},
     "output_type": "execute_result"
    }
   ],
   "source": [
    "select_idx = df.itemno_old.to_numpy() - 1\n",
    "w2v_new = w2v[np.ix_(select_idx, select_idx)]\n",
    "w2v_new"
   ]
  },
  {
   "cell_type": "code",
   "execution_count": 8,
   "id": "ff3beb3f-ae47-42f9-8dcf-8038afa95430",
   "metadata": {},
   "outputs": [],
   "source": [
    "np.save(\"simu4_data/simu4_smat.npy\", w2v_new)"
   ]
  },
  {
   "cell_type": "code",
   "execution_count": null,
   "id": "970e09fb-b1f3-4dab-8120-4e6e9b29d562",
   "metadata": {},
   "outputs": [],
   "source": []
  }
 ],
 "metadata": {
  "kernelspec": {
   "display_name": "CMR_IA",
   "language": "python",
   "name": "python3"
  },
  "language_info": {
   "codemirror_mode": {
    "name": "ipython",
    "version": 3
   },
   "file_extension": ".py",
   "mimetype": "text/x-python",
   "name": "python",
   "nbconvert_exporter": "python",
   "pygments_lexer": "ipython3",
   "version": "3.9.19"
  }
 },
 "nbformat": 4,
 "nbformat_minor": 5
}
